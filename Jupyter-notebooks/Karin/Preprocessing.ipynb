{
 "cells": [
  {
   "cell_type": "code",
   "execution_count": 3,
   "id": "5f71d806",
   "metadata": {},
   "outputs": [
    {
     "name": "stderr",
     "output_type": "stream",
     "text": [
      "Processing Training: 100%|██████████| 4/4 [02:23<00:00, 35.95s/it]\n",
      "Processing Testing: 100%|██████████| 4/4 [00:31<00:00,  7.90s/it]"
     ]
    },
    {
     "name": "stdout",
     "output_type": "stream",
     "text": [
      "Preprocessing completed! All images saved under 'cleaned/'\n"
     ]
    },
    {
     "name": "stderr",
     "output_type": "stream",
     "text": [
      "\n"
     ]
    }
   ],
   "source": [
    "import os\n",
    "import cv2\n",
    "from tqdm import tqdm\n",
    "import imutils\n",
    "\n",
    "def crop_img(img):\n",
    "    gray = cv2.cvtColor(img, cv2.COLOR_BGR2GRAY)\n",
    "    gray = cv2.GaussianBlur(gray, (3, 3), 0)\n",
    "\n",
    "    thresh = cv2.threshold(gray, 45, 255, cv2.THRESH_BINARY)[1]\n",
    "    thresh = cv2.erode(thresh, None, iterations=2)\n",
    "    thresh = cv2.dilate(thresh, None, iterations=2)\n",
    "\n",
    "    cnts = cv2.findContours(thresh.copy(), cv2.RETR_EXTERNAL, cv2.CHAIN_APPROX_SIMPLE)\n",
    "    cnts = imutils.grab_contours(cnts)\n",
    "\n",
    "    if len(cnts) == 0:\n",
    "        return cv2.resize(img, (256, 256))\n",
    "\n",
    "    c = max(cnts, key=cv2.contourArea)\n",
    "    extLeft = tuple(c[c[:, :, 0].argmin()][0])\n",
    "    extRight = tuple(c[c[:, :, 0].argmax()][0])\n",
    "    extTop = tuple(c[c[:, :, 1].argmin()][0])\n",
    "    extBot = tuple(c[c[:, :, 1].argmax()][0])\n",
    "\n",
    "    new_img = img[extTop[1]:extBot[1], extLeft[0]:extRight[0]].copy()\n",
    "    return new_img\n",
    "\n",
    "if __name__ == \"__main__\":\n",
    "    # Basväg till dataset\n",
    "    base_path = r\"C:\\Users\\karin\\Documents\\Federated_learning\"\n",
    "    \n",
    "    # Uppdaterade mappar\n",
    "    training_path = os.path.join(base_path, \"archive\", \"Training\")\n",
    "    testing_path = os.path.join(base_path, \"archive\", \"Testing\")\n",
    "\n",
    "    IMG_SIZE = 256\n",
    "\n",
    "    # -------- Preprocess Training --------\n",
    "    for class_name in tqdm(os.listdir(training_path), desc=\"Processing Training\"):\n",
    "        input_dir = os.path.join(training_path, class_name)\n",
    "        output_dir = os.path.join(base_path, \"cleaned\", \"Training\", class_name)\n",
    "        os.makedirs(output_dir, exist_ok=True)\n",
    "\n",
    "        for img_name in os.listdir(input_dir):\n",
    "            img_path = os.path.join(input_dir, img_name)\n",
    "            image = cv2.imread(img_path)\n",
    "            if image is None:\n",
    "                print(f\"Warning: could not read {img_path}\")\n",
    "                continue\n",
    "            cropped = crop_img(image)\n",
    "            resized = cv2.resize(cropped, (IMG_SIZE, IMG_SIZE))\n",
    "            cv2.imwrite(os.path.join(output_dir, img_name), resized)\n",
    "\n",
    "    # -------- Preprocess Testing --------\n",
    "    for class_name in tqdm(os.listdir(testing_path), desc=\"Processing Testing\"):\n",
    "        input_dir = os.path.join(testing_path, class_name)\n",
    "        output_dir = os.path.join(base_path, \"cleaned\", \"Testing\", class_name)\n",
    "        os.makedirs(output_dir, exist_ok=True)\n",
    "\n",
    "        for img_name in os.listdir(input_dir):\n",
    "            img_path = os.path.join(input_dir, img_name)\n",
    "            image = cv2.imread(img_path)\n",
    "            if image is None:\n",
    "                print(f\"Warning: could not read {img_path}\")\n",
    "                continue\n",
    "            cropped = crop_img(image)\n",
    "            resized = cv2.resize(cropped, (IMG_SIZE, IMG_SIZE))\n",
    "            cv2.imwrite(os.path.join(output_dir, img_name), resized)\n",
    "\n",
    "    print(\"Preprocessing completed! All images saved under 'cleaned/'\")\n",
    "\n"
   ]
  }
 ],
 "metadata": {
  "kernelspec": {
   "display_name": ".venv",
   "language": "python",
   "name": "python3"
  },
  "language_info": {
   "codemirror_mode": {
    "name": "ipython",
    "version": 3
   },
   "file_extension": ".py",
   "mimetype": "text/x-python",
   "name": "python",
   "nbconvert_exporter": "python",
   "pygments_lexer": "ipython3",
   "version": "3.13.9"
  }
 },
 "nbformat": 4,
 "nbformat_minor": 5
}
